{
 "cells": [
  {
   "cell_type": "code",
   "execution_count": 1,
   "metadata": {
    "_cell_guid": "b1076dfc-b9ad-4769-8c92-a6c4dae69d19",
    "_uuid": "8f2839f25d086af736a60e9eeb907d3b93b6e0e5"
   },
   "outputs": [],
   "source": [
    "import numpy as np\n",
    "import pandas as pd\n",
    "from sklearn.model_selection import StratifiedKFold\n",
    "from sklearn.metrics import roc_auc_score\n",
    "from sklearn.preprocessing import StandardScaler\n",
    "from sklearn.feature_selection import VarianceThreshold\n",
    "from sklearn.discriminant_analysis import QuadraticDiscriminantAnalysis\n",
    "from sklearn.pipeline import Pipeline\n",
    "from tqdm import tqdm_notebook\n",
    "from sklearn.model_selection import GridSearchCV\n",
    "\n",
    "import warnings\n",
    "warnings.filterwarnings('ignore')"
   ]
  },
  {
   "cell_type": "code",
   "execution_count": 2,
   "metadata": {},
   "outputs": [],
   "source": [
    "train = pd.read_csv('../input/train.csv')\n",
    "test = pd.read_csv('../input/test.csv')\n",
    "sub = pd.read_csv('../input/sample_submission.csv')\n",
    "\n",
    "cols = [c for c in train.columns if c not in ['id', 'target', 'wheezy-copper-turtle-magic']]"
   ]
  },
  {
   "cell_type": "code",
   "execution_count": 3,
   "metadata": {},
   "outputs": [
    {
     "data": {
      "application/vnd.jupyter.widget-view+json": {
       "model_id": "98f9b3f3a65440f18a3a42f81ccf02de",
       "version_major": 2,
       "version_minor": 0
      },
      "text/plain": [
       "HBox(children=(IntProgress(value=0, max=512), HTML(value='')))"
      ]
     },
     "metadata": {},
     "output_type": "display_data"
    },
    {
     "name": "stdout",
     "output_type": "stream",
     "text": [
      "\n"
     ]
    }
   ],
   "source": [
    "oof_qda_0 = np.zeros(len(train))\n",
    "preds_qda = np.zeros(len(test))\n",
    "params = [{'reg_param': [0.1, 0.2, 0.3, 0.4, 0.5]}]\n",
    "\n",
    "# 512 models\n",
    "reg_params = np.zeros(512)\n",
    "for i in tqdm_notebook(range(512)):\n",
    "    train_magic = train[train['wheezy-copper-turtle-magic']==i]\n",
    "    test_magic = test[test['wheezy-copper-turtle-magic']==i]\n",
    "    train_magic_idx = train_magic.index\n",
    "    test_magic_idx = test_magic.index\n",
    "    train_magic.reset_index(drop=True,inplace=True)\n",
    "\n",
    "    full_data = pd.concat([pd.DataFrame(train_magic[cols]), pd.DataFrame(test_magic[cols])])\n",
    "    pipe = Pipeline([('vt', VarianceThreshold(threshold=1.5)), ('scaler', StandardScaler())])\n",
    "    full_data_vt = pipe.fit_transform(full_data[cols])\n",
    "    train_magic_vt = full_data_vt[:train_magic.shape[0]]\n",
    "    test_magic_vt = full_data_vt[train_magic.shape[0]:]\n",
    "\n",
    "    skf = StratifiedKFold(n_splits=11, random_state=42)\n",
    "    for train_index, valid_index in skf.split(train_magic, train_magic['target']):\n",
    "        X_train_2 = train_magic_vt[train_index,:]\n",
    "        X_valid_2 = train_magic_vt[valid_index,:]\n",
    "        y_train = train_magic.loc[train_index, 'target']\n",
    "\n",
    "        qda_clf = QuadraticDiscriminantAnalysis()\n",
    "        grid_search_clf = GridSearchCV(qda_clf, params, cv=4)\n",
    "        grid_search_clf.fit(X_train_2, y_train)\n",
    "        reg_params[i] = grid_search_clf.best_params_['reg_param']\n",
    "        \n",
    "        oof_qda_0[train_magic_idx[valid_index]] = grid_search_clf.predict_proba(X_valid_2)[:,1]\n",
    "        preds_qda[test_magic_idx] += grid_search_clf.predict_proba(test_magic_vt)[:,1] / skf.n_splits"
   ]
  },
  {
   "cell_type": "code",
   "execution_count": 4,
   "metadata": {},
   "outputs": [
    {
     "name": "stdout",
     "output_type": "stream",
     "text": [
      "QDA ROC AUC: 0.96462\n"
     ]
    }
   ],
   "source": [
    "print('QDA', 'ROC AUC: {0:.5}'.format(roc_auc_score(train['target'], oof_qda_0)))"
   ]
  },
  {
   "cell_type": "code",
   "execution_count": 5,
   "metadata": {},
   "outputs": [],
   "source": [
    "sub['target'] = preds_qda\n",
    "sub.to_csv('qda.csv', index=False)"
   ]
  },
  {
   "cell_type": "code",
   "execution_count": 6,
   "metadata": {},
   "outputs": [
    {
     "name": "stdout",
     "output_type": "stream",
     "text": [
      "109666 Test Records added for iteration number 0\n"
     ]
    },
    {
     "data": {
      "application/vnd.jupyter.widget-view+json": {
       "model_id": "0057fc67f4a94296913d8edb11a64543",
       "version_major": 2,
       "version_minor": 0
      },
      "text/plain": [
       "HBox(children=(IntProgress(value=0, max=512), HTML(value='')))"
      ]
     },
     "metadata": {},
     "output_type": "display_data"
    },
    {
     "name": "stdout",
     "output_type": "stream",
     "text": [
      "\n",
      "QDA ROC AUC: 0.97113\n",
      "121408 Test Records added for iteration number 1\n"
     ]
    },
    {
     "data": {
      "application/vnd.jupyter.widget-view+json": {
       "model_id": "e2bc50dedc834f5794cce5e567ffc326",
       "version_major": 2,
       "version_minor": 0
      },
      "text/plain": [
       "HBox(children=(IntProgress(value=0, max=512), HTML(value='')))"
      ]
     },
     "metadata": {},
     "output_type": "display_data"
    },
    {
     "name": "stdout",
     "output_type": "stream",
     "text": [
      "\n",
      "QDA ROC AUC: 0.97054\n",
      "122234 Test Records added for iteration number 2\n"
     ]
    },
    {
     "data": {
      "application/vnd.jupyter.widget-view+json": {
       "model_id": "c4dadee194554f8e99ffdfac5864e306",
       "version_major": 2,
       "version_minor": 0
      },
      "text/plain": [
       "HBox(children=(IntProgress(value=0, max=512), HTML(value='')))"
      ]
     },
     "metadata": {},
     "output_type": "display_data"
    },
    {
     "name": "stdout",
     "output_type": "stream",
     "text": [
      "\n",
      "QDA ROC AUC: 0.97048\n",
      "122333 Test Records added for iteration number 3\n"
     ]
    },
    {
     "data": {
      "application/vnd.jupyter.widget-view+json": {
       "model_id": "a42ab92091034b9bbd8dcf90b9ed0a3d",
       "version_major": 2,
       "version_minor": 0
      },
      "text/plain": [
       "HBox(children=(IntProgress(value=0, max=512), HTML(value='')))"
      ]
     },
     "metadata": {},
     "output_type": "display_data"
    },
    {
     "name": "stdout",
     "output_type": "stream",
     "text": [
      "\n",
      "QDA ROC AUC: 0.97047\n",
      "122352 Test Records added for iteration number 4\n"
     ]
    },
    {
     "data": {
      "application/vnd.jupyter.widget-view+json": {
       "model_id": "2626915311c8456ca216126d767fb224",
       "version_major": 2,
       "version_minor": 0
      },
      "text/plain": [
       "HBox(children=(IntProgress(value=0, max=512), HTML(value='')))"
      ]
     },
     "metadata": {},
     "output_type": "display_data"
    },
    {
     "name": "stdout",
     "output_type": "stream",
     "text": [
      "\n",
      "QDA ROC AUC: 0.97047\n",
      "122359 Test Records added for iteration number 5\n"
     ]
    },
    {
     "data": {
      "application/vnd.jupyter.widget-view+json": {
       "model_id": "ef1bf2c1ccc3428ab67b0360cbb98d99",
       "version_major": 2,
       "version_minor": 0
      },
      "text/plain": [
       "HBox(children=(IntProgress(value=0, max=512), HTML(value='')))"
      ]
     },
     "metadata": {},
     "output_type": "display_data"
    },
    {
     "name": "stdout",
     "output_type": "stream",
     "text": [
      "\n",
      "QDA ROC AUC: 0.97047\n",
      "122360 Test Records added for iteration number 6\n"
     ]
    },
    {
     "data": {
      "application/vnd.jupyter.widget-view+json": {
       "model_id": "d55f609585394bbd9c3f9f0a456dfea8",
       "version_major": 2,
       "version_minor": 0
      },
      "text/plain": [
       "HBox(children=(IntProgress(value=0, max=512), HTML(value='')))"
      ]
     },
     "metadata": {},
     "output_type": "display_data"
    },
    {
     "name": "stdout",
     "output_type": "stream",
     "text": [
      "\n",
      "QDA ROC AUC: 0.97047\n",
      "122361 Test Records added for iteration number 7\n"
     ]
    },
    {
     "data": {
      "application/vnd.jupyter.widget-view+json": {
       "model_id": "88bea9cac9c1445dbd4ea68b47c1dd8e",
       "version_major": 2,
       "version_minor": 0
      },
      "text/plain": [
       "HBox(children=(IntProgress(value=0, max=512), HTML(value='')))"
      ]
     },
     "metadata": {},
     "output_type": "display_data"
    }
   ],
   "source": [
    "for itr in range(10):\n",
    "    test['target'] = preds_qda\n",
    "    test.loc[test['target'] > 0.915, 'target'] = 1\n",
    "    test.loc[test['target'] < 0.085, 'target'] = 0\n",
    "    pl_test = test[(test['target'] == 1) | (test['target'] == 0)]\n",
    "    new_train = pd.concat([train, pl_test])\n",
    "    new_train.reset_index(drop=True, inplace=True)\n",
    "    new_train.loc[oof_qda_0 > 0.995, 'target'] = 1\n",
    "    new_train.loc[oof_qda_0 < 0.005, 'target'] = 0\n",
    "    print(pl_test.shape[0], \"Test Records added for iteration number {}\".format(itr))\n",
    "    \n",
    "    oof_qda = np.zeros(len(new_train))\n",
    "    preds_qda = np.zeros(len(test))\n",
    "    \n",
    "    for i in tqdm_notebook(range(512)):\n",
    "        train_magic = new_train[new_train['wheezy-copper-turtle-magic']==i]\n",
    "        test_magic = test[test['wheezy-copper-turtle-magic']==i]\n",
    "        train_magic_idx = train_magic.index\n",
    "        test_magic_idx = test_magic.index\n",
    "        train_magic.reset_index(drop=True,inplace=True)\n",
    "        \n",
    "        full_data = pd.concat([pd.DataFrame(train_magic[cols]), pd.DataFrame(test_magic[cols])])\n",
    "        pipe = Pipeline([('vt', VarianceThreshold(threshold=1.5)), ('scaler', StandardScaler())])\n",
    "        full_data_vt = pipe.fit_transform(full_data[cols])\n",
    "        train_magic_vt = full_data_vt[:train_magic.shape[0]]\n",
    "        test_magic_vt = full_data_vt[train_magic.shape[0]:]\n",
    "\n",
    "        skf = StratifiedKFold(n_splits=11, random_state=42)\n",
    "        for train_index, valid_index in skf.split(train_magic, train_magic['target']):\n",
    "            X_train_2 = train_magic_vt[train_index,:]\n",
    "            X_valid_2 = train_magic_vt[valid_index,:]\n",
    "            y_train = train_magic.loc[train_index, 'target']\n",
    "            \n",
    "            qda_clf = QuadraticDiscriminantAnalysis(reg_params[i])\n",
    "            qda_clf.fit(X_train_2, y_train)\n",
    "\n",
    "            oof_qda[train_magic_idx[valid_index]] = qda_clf.predict_proba(X_valid_2)[:,1]\n",
    "            preds_qda[test_magic_idx] += qda_clf.predict_proba(test_magic_vt)[:,1] / skf.n_splits\n",
    "    \n",
    "    print('QDA', 'ROC AUC: {0:.5}'.format(roc_auc_score(train['target'], oof_qda[:len(train)])))\n",
    "    \n",
    "    sub['target'] = preds_qda\n",
    "    sub.to_csv('qda_{}.csv'.format(itr), index=False)"
   ]
  }
 ],
 "metadata": {
  "kernelspec": {
   "display_name": "Python 3",
   "language": "python",
   "name": "python3"
  },
  "language_info": {
   "codemirror_mode": {
    "name": "ipython",
    "version": 3
   },
   "file_extension": ".py",
   "mimetype": "text/x-python",
   "name": "python",
   "nbconvert_exporter": "python",
   "pygments_lexer": "ipython3",
   "version": "3.7.1"
  }
 },
 "nbformat": 4,
 "nbformat_minor": 1
}
